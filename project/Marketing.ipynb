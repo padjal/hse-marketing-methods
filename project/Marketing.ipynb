{
 "nbformat": 4,
 "nbformat_minor": 0,
 "metadata": {
  "colab": {
   "provenance": []
  },
  "kernelspec": {
   "name": "python3",
   "display_name": "Python 3"
  },
  "language_info": {
   "name": "python"
  }
 },
 "cells": [
  {
   "cell_type": "code",
   "execution_count": 12,
   "metadata": {
    "id": "6s1AXp4Q9T75"
   },
   "outputs": [],
   "source": [
    "import pandas as pd\n",
    "import numpy as np\n",
    "import seaborn as sns\n",
    "import matplotlib.pyplot as plt\n",
    "from datetime import datetime, date"
   ]
  },
  {
   "cell_type": "code",
   "source": [
    "df = pd.read_csv('data/bank_transactions.csv')"
   ],
   "metadata": {
    "id": "eVY0uK1pDo-V",
    "colab": {
     "base_uri": "https://localhost:8080/",
     "height": 311
    },
    "outputId": "dc2695a0-8dac-4733-8d1c-bcc05d53e01c"
   },
   "execution_count": 35,
   "outputs": []
  },
  {
   "cell_type": "code",
   "source": [
    "df.head()"
   ],
   "metadata": {
    "id": "FJQ9i6Yy-ftl",
    "colab": {
     "base_uri": "https://localhost:8080/",
     "height": 206
    },
    "outputId": "df0c31bf-71af-4b08-886f-e026898a9722"
   },
   "execution_count": 36,
   "outputs": [
    {
     "data": {
      "text/plain": "  TransactionID CustomerID CustomerDOB CustGender CustLocation  \\\n0            T1   C5841053     10/1/94          F   JAMSHEDPUR   \n1            T2   C2142763      4/4/57          M      JHAJJAR   \n2            T3   C4417068    26/11/96          F       MUMBAI   \n3            T4   C5342380     14/9/73          F       MUMBAI   \n4            T5   C9031234     24/3/88          F  NAVI MUMBAI   \n\n   CustAccountBalance TransactionDate  TransactionTime  \\\n0            17819.05          2/8/16           143207   \n1             2270.69          2/8/16           141858   \n2            17874.44          2/8/16           142712   \n3           866503.21          2/8/16           142714   \n4             6714.43          2/8/16           181156   \n\n   TransactionAmount (INR)  \n0                     25.0  \n1                  27999.0  \n2                    459.0  \n3                   2060.0  \n4                   1762.5  ",
      "text/html": "<div>\n<style scoped>\n    .dataframe tbody tr th:only-of-type {\n        vertical-align: middle;\n    }\n\n    .dataframe tbody tr th {\n        vertical-align: top;\n    }\n\n    .dataframe thead th {\n        text-align: right;\n    }\n</style>\n<table border=\"1\" class=\"dataframe\">\n  <thead>\n    <tr style=\"text-align: right;\">\n      <th></th>\n      <th>TransactionID</th>\n      <th>CustomerID</th>\n      <th>CustomerDOB</th>\n      <th>CustGender</th>\n      <th>CustLocation</th>\n      <th>CustAccountBalance</th>\n      <th>TransactionDate</th>\n      <th>TransactionTime</th>\n      <th>TransactionAmount (INR)</th>\n    </tr>\n  </thead>\n  <tbody>\n    <tr>\n      <th>0</th>\n      <td>T1</td>\n      <td>C5841053</td>\n      <td>10/1/94</td>\n      <td>F</td>\n      <td>JAMSHEDPUR</td>\n      <td>17819.05</td>\n      <td>2/8/16</td>\n      <td>143207</td>\n      <td>25.0</td>\n    </tr>\n    <tr>\n      <th>1</th>\n      <td>T2</td>\n      <td>C2142763</td>\n      <td>4/4/57</td>\n      <td>M</td>\n      <td>JHAJJAR</td>\n      <td>2270.69</td>\n      <td>2/8/16</td>\n      <td>141858</td>\n      <td>27999.0</td>\n    </tr>\n    <tr>\n      <th>2</th>\n      <td>T3</td>\n      <td>C4417068</td>\n      <td>26/11/96</td>\n      <td>F</td>\n      <td>MUMBAI</td>\n      <td>17874.44</td>\n      <td>2/8/16</td>\n      <td>142712</td>\n      <td>459.0</td>\n    </tr>\n    <tr>\n      <th>3</th>\n      <td>T4</td>\n      <td>C5342380</td>\n      <td>14/9/73</td>\n      <td>F</td>\n      <td>MUMBAI</td>\n      <td>866503.21</td>\n      <td>2/8/16</td>\n      <td>142714</td>\n      <td>2060.0</td>\n    </tr>\n    <tr>\n      <th>4</th>\n      <td>T5</td>\n      <td>C9031234</td>\n      <td>24/3/88</td>\n      <td>F</td>\n      <td>NAVI MUMBAI</td>\n      <td>6714.43</td>\n      <td>2/8/16</td>\n      <td>181156</td>\n      <td>1762.5</td>\n    </tr>\n  </tbody>\n</table>\n</div>"
     },
     "execution_count": 36,
     "metadata": {},
     "output_type": "execute_result"
    }
   ]
  },
  {
   "cell_type": "code",
   "source": [
    "df.info()"
   ],
   "metadata": {
    "colab": {
     "base_uri": "https://localhost:8080/"
    },
    "id": "_C7s39XoGzhe",
    "outputId": "6e662107-6ca3-48ed-9462-bf25a667a8a4"
   },
   "execution_count": 4,
   "outputs": [
    {
     "name": "stdout",
     "output_type": "stream",
     "text": [
      "<class 'pandas.core.frame.DataFrame'>\n",
      "RangeIndex: 1048567 entries, 0 to 1048566\n",
      "Data columns (total 9 columns):\n",
      " #   Column                   Non-Null Count    Dtype  \n",
      "---  ------                   --------------    -----  \n",
      " 0   TransactionID            1048567 non-null  object \n",
      " 1   CustomerID               1048567 non-null  object \n",
      " 2   CustomerDOB              1045170 non-null  object \n",
      " 3   CustGender               1047467 non-null  object \n",
      " 4   CustLocation             1048416 non-null  object \n",
      " 5   CustAccountBalance       1046198 non-null  float64\n",
      " 6   TransactionDate          1048567 non-null  object \n",
      " 7   TransactionTime          1048567 non-null  int64  \n",
      " 8   TransactionAmount (INR)  1048567 non-null  float64\n",
      "dtypes: float64(2), int64(1), object(6)\n",
      "memory usage: 72.0+ MB\n"
     ]
    }
   ]
  },
  {
   "cell_type": "code",
   "source": [
    "df.describe().T"
   ],
   "metadata": {
    "id": "wDtBPDLEG7mJ",
    "colab": {
     "base_uri": "https://localhost:8080/",
     "height": 143
    },
    "outputId": "c6305d0e-1962-4b79-d9a1-01f65556cef5"
   },
   "execution_count": 5,
   "outputs": [
    {
     "data": {
      "text/plain": "                             count           mean            std  min  \\\nCustAccountBalance       1046198.0  115403.540056  846485.380601  0.0   \nTransactionTime          1048567.0  157087.529393   51261.854022  0.0   \nTransactionAmount (INR)  1048567.0    1574.335003    6574.742978  0.0   \n\n                               25%        50%        75%           max  \nCustAccountBalance         4721.76   16792.18   57657.36  1.150355e+08  \nTransactionTime          124030.00  164226.00  200010.00  2.359590e+05  \nTransactionAmount (INR)     161.00     459.03    1200.00  1.560035e+06  ",
      "text/html": "<div>\n<style scoped>\n    .dataframe tbody tr th:only-of-type {\n        vertical-align: middle;\n    }\n\n    .dataframe tbody tr th {\n        vertical-align: top;\n    }\n\n    .dataframe thead th {\n        text-align: right;\n    }\n</style>\n<table border=\"1\" class=\"dataframe\">\n  <thead>\n    <tr style=\"text-align: right;\">\n      <th></th>\n      <th>count</th>\n      <th>mean</th>\n      <th>std</th>\n      <th>min</th>\n      <th>25%</th>\n      <th>50%</th>\n      <th>75%</th>\n      <th>max</th>\n    </tr>\n  </thead>\n  <tbody>\n    <tr>\n      <th>CustAccountBalance</th>\n      <td>1046198.0</td>\n      <td>115403.540056</td>\n      <td>846485.380601</td>\n      <td>0.0</td>\n      <td>4721.76</td>\n      <td>16792.18</td>\n      <td>57657.36</td>\n      <td>1.150355e+08</td>\n    </tr>\n    <tr>\n      <th>TransactionTime</th>\n      <td>1048567.0</td>\n      <td>157087.529393</td>\n      <td>51261.854022</td>\n      <td>0.0</td>\n      <td>124030.00</td>\n      <td>164226.00</td>\n      <td>200010.00</td>\n      <td>2.359590e+05</td>\n    </tr>\n    <tr>\n      <th>TransactionAmount (INR)</th>\n      <td>1048567.0</td>\n      <td>1574.335003</td>\n      <td>6574.742978</td>\n      <td>0.0</td>\n      <td>161.00</td>\n      <td>459.03</td>\n      <td>1200.00</td>\n      <td>1.560035e+06</td>\n    </tr>\n  </tbody>\n</table>\n</div>"
     },
     "execution_count": 5,
     "metadata": {},
     "output_type": "execute_result"
    }
   ]
  },
  {
   "cell_type": "markdown",
   "source": [
    "Discover how many nulls in each column"
   ],
   "metadata": {
    "id": "7JYVn52mcvdm"
   }
  },
  {
   "cell_type": "code",
   "source": [
    "df.isna().sum()"
   ],
   "metadata": {
    "colab": {
     "base_uri": "https://localhost:8080/"
    },
    "id": "NhzfBdzRcvMJ",
    "outputId": "7f82a5d7-2b1a-40ad-8021-a1eff166c13b"
   },
   "execution_count": 6,
   "outputs": [
    {
     "data": {
      "text/plain": "TransactionID                 0\nCustomerID                    0\nCustomerDOB                3397\nCustGender                 1100\nCustLocation                151\nCustAccountBalance         2369\nTransactionDate               0\nTransactionTime               0\nTransactionAmount (INR)       0\ndtype: int64"
     },
     "execution_count": 6,
     "metadata": {},
     "output_type": "execute_result"
    }
   ]
  },
  {
   "cell_type": "markdown",
   "source": [
    "Drop all rows that have nulls"
   ],
   "metadata": {
    "id": "GACDoOeUc039"
   }
  },
  {
   "cell_type": "code",
   "source": [
    "df = df.dropna()"
   ],
   "metadata": {
    "id": "wUb5EmB3c2qO",
    "colab": {
     "base_uri": "https://localhost:8080/",
     "height": 165
    },
    "outputId": "f8dd3bca-d203-482b-e288-1b90bdab274f"
   },
   "execution_count": 7,
   "outputs": []
  },
  {
   "cell_type": "code",
   "execution_count": 8,
   "outputs": [
    {
     "data": {
      "text/plain": "TransactionID              0\nCustomerID                 0\nCustomerDOB                0\nCustGender                 0\nCustLocation               0\nCustAccountBalance         0\nTransactionDate            0\nTransactionTime            0\nTransactionAmount (INR)    0\ndtype: int64"
     },
     "execution_count": 8,
     "metadata": {},
     "output_type": "execute_result"
    }
   ],
   "source": [
    "df.isna().sum()"
   ],
   "metadata": {
    "collapsed": false
   }
  },
  {
   "cell_type": "code",
   "execution_count": 37,
   "outputs": [
    {
     "data": {
      "text/plain": "1/1/1800    57339\n1/1/89        809\n1/1/90        784\n6/8/91        699\n1/1/91        666\n            ...  \n3/9/60          1\n17/11/52        1\n11/9/63         1\n28/2/47         1\n24/10/44        1\nName: CustomerDOB, Length: 17254, dtype: int64"
     },
     "execution_count": 37,
     "metadata": {},
     "output_type": "execute_result"
    }
   ],
   "source": [
    "df['CustomerDOB'].value_counts()"
   ],
   "metadata": {
    "collapsed": false
   }
  },
  {
   "cell_type": "code",
   "execution_count": 38,
   "outputs": [],
   "source": [
    "df = df.drop(df[df['CustomerDOB'] == '1/1/1800'].index,axis = 0)"
   ],
   "metadata": {
    "collapsed": false
   }
  },
  {
   "cell_type": "code",
   "execution_count": 39,
   "outputs": [
    {
     "data": {
      "text/plain": "1/1/89      809\n1/1/90      784\n6/8/91      699\n1/1/91      666\n1/1/92      633\n           ... \n3/9/60        1\n17/11/52      1\n11/9/63       1\n28/2/47       1\n24/10/44      1\nName: CustomerDOB, Length: 17253, dtype: int64"
     },
     "execution_count": 39,
     "metadata": {},
     "output_type": "execute_result"
    }
   ],
   "source": [
    "df['CustomerDOB'].value_counts()"
   ],
   "metadata": {
    "collapsed": false
   }
  },
  {
   "cell_type": "code",
   "execution_count": 40,
   "outputs": [],
   "source": [
    "df.CustomerDOB = pd.to_datetime(df.CustomerDOB)"
   ],
   "metadata": {
    "collapsed": false
   }
  },
  {
   "cell_type": "code",
   "execution_count": 41,
   "outputs": [
    {
     "data": {
      "text/plain": "        TransactionID CustomerID CustomerDOB CustGender   CustLocation  \\\n0                  T1   C5841053  1994-10-01          F     JAMSHEDPUR   \n1                  T2   C2142763  2057-04-04          M        JHAJJAR   \n2                  T3   C4417068  1996-11-26          F         MUMBAI   \n3                  T4   C5342380  1973-09-14          F         MUMBAI   \n4                  T5   C9031234  1988-03-24          F    NAVI MUMBAI   \n...               ...        ...         ...        ...            ...   \n1048562      T1048563   C8020229  1990-08-04          M      NEW DELHI   \n1048563      T1048564   C6459278  1992-02-20          M         NASHIK   \n1048564      T1048565   C6412354  1989-05-18          M      HYDERABAD   \n1048565      T1048566   C6420483  1978-08-30          M  VISAKHAPATNAM   \n1048566      T1048567   C8337524  1984-05-03          M           PUNE   \n\n         CustAccountBalance TransactionDate  TransactionTime  \\\n0                  17819.05          2/8/16           143207   \n1                   2270.69          2/8/16           141858   \n2                  17874.44          2/8/16           142712   \n3                 866503.21          2/8/16           142714   \n4                   6714.43          2/8/16           181156   \n...                     ...             ...              ...   \n1048562             7635.19         18/9/16           184824   \n1048563            27311.42         18/9/16           183734   \n1048564           221757.06         18/9/16           183313   \n1048565            10117.87         18/9/16           184706   \n1048566            75734.42         18/9/16           181222   \n\n         TransactionAmount (INR)  \n0                           25.0  \n1                        27999.0  \n2                          459.0  \n3                         2060.0  \n4                         1762.5  \n...                          ...  \n1048562                    799.0  \n1048563                    460.0  \n1048564                    770.0  \n1048565                   1000.0  \n1048566                   1166.0  \n\n[991228 rows x 9 columns]",
      "text/html": "<div>\n<style scoped>\n    .dataframe tbody tr th:only-of-type {\n        vertical-align: middle;\n    }\n\n    .dataframe tbody tr th {\n        vertical-align: top;\n    }\n\n    .dataframe thead th {\n        text-align: right;\n    }\n</style>\n<table border=\"1\" class=\"dataframe\">\n  <thead>\n    <tr style=\"text-align: right;\">\n      <th></th>\n      <th>TransactionID</th>\n      <th>CustomerID</th>\n      <th>CustomerDOB</th>\n      <th>CustGender</th>\n      <th>CustLocation</th>\n      <th>CustAccountBalance</th>\n      <th>TransactionDate</th>\n      <th>TransactionTime</th>\n      <th>TransactionAmount (INR)</th>\n    </tr>\n  </thead>\n  <tbody>\n    <tr>\n      <th>0</th>\n      <td>T1</td>\n      <td>C5841053</td>\n      <td>1994-10-01</td>\n      <td>F</td>\n      <td>JAMSHEDPUR</td>\n      <td>17819.05</td>\n      <td>2/8/16</td>\n      <td>143207</td>\n      <td>25.0</td>\n    </tr>\n    <tr>\n      <th>1</th>\n      <td>T2</td>\n      <td>C2142763</td>\n      <td>2057-04-04</td>\n      <td>M</td>\n      <td>JHAJJAR</td>\n      <td>2270.69</td>\n      <td>2/8/16</td>\n      <td>141858</td>\n      <td>27999.0</td>\n    </tr>\n    <tr>\n      <th>2</th>\n      <td>T3</td>\n      <td>C4417068</td>\n      <td>1996-11-26</td>\n      <td>F</td>\n      <td>MUMBAI</td>\n      <td>17874.44</td>\n      <td>2/8/16</td>\n      <td>142712</td>\n      <td>459.0</td>\n    </tr>\n    <tr>\n      <th>3</th>\n      <td>T4</td>\n      <td>C5342380</td>\n      <td>1973-09-14</td>\n      <td>F</td>\n      <td>MUMBAI</td>\n      <td>866503.21</td>\n      <td>2/8/16</td>\n      <td>142714</td>\n      <td>2060.0</td>\n    </tr>\n    <tr>\n      <th>4</th>\n      <td>T5</td>\n      <td>C9031234</td>\n      <td>1988-03-24</td>\n      <td>F</td>\n      <td>NAVI MUMBAI</td>\n      <td>6714.43</td>\n      <td>2/8/16</td>\n      <td>181156</td>\n      <td>1762.5</td>\n    </tr>\n    <tr>\n      <th>...</th>\n      <td>...</td>\n      <td>...</td>\n      <td>...</td>\n      <td>...</td>\n      <td>...</td>\n      <td>...</td>\n      <td>...</td>\n      <td>...</td>\n      <td>...</td>\n    </tr>\n    <tr>\n      <th>1048562</th>\n      <td>T1048563</td>\n      <td>C8020229</td>\n      <td>1990-08-04</td>\n      <td>M</td>\n      <td>NEW DELHI</td>\n      <td>7635.19</td>\n      <td>18/9/16</td>\n      <td>184824</td>\n      <td>799.0</td>\n    </tr>\n    <tr>\n      <th>1048563</th>\n      <td>T1048564</td>\n      <td>C6459278</td>\n      <td>1992-02-20</td>\n      <td>M</td>\n      <td>NASHIK</td>\n      <td>27311.42</td>\n      <td>18/9/16</td>\n      <td>183734</td>\n      <td>460.0</td>\n    </tr>\n    <tr>\n      <th>1048564</th>\n      <td>T1048565</td>\n      <td>C6412354</td>\n      <td>1989-05-18</td>\n      <td>M</td>\n      <td>HYDERABAD</td>\n      <td>221757.06</td>\n      <td>18/9/16</td>\n      <td>183313</td>\n      <td>770.0</td>\n    </tr>\n    <tr>\n      <th>1048565</th>\n      <td>T1048566</td>\n      <td>C6420483</td>\n      <td>1978-08-30</td>\n      <td>M</td>\n      <td>VISAKHAPATNAM</td>\n      <td>10117.87</td>\n      <td>18/9/16</td>\n      <td>184706</td>\n      <td>1000.0</td>\n    </tr>\n    <tr>\n      <th>1048566</th>\n      <td>T1048567</td>\n      <td>C8337524</td>\n      <td>1984-05-03</td>\n      <td>M</td>\n      <td>PUNE</td>\n      <td>75734.42</td>\n      <td>18/9/16</td>\n      <td>181222</td>\n      <td>1166.0</td>\n    </tr>\n  </tbody>\n</table>\n<p>991228 rows × 9 columns</p>\n</div>"
     },
     "execution_count": 41,
     "metadata": {},
     "output_type": "execute_result"
    }
   ],
   "source": [
    "df"
   ],
   "metadata": {
    "collapsed": false
   }
  },
  {
   "cell_type": "markdown",
   "source": [
    "Substitute any year more than or equal 2022 by 100"
   ],
   "metadata": {
    "collapsed": false
   }
  },
  {
   "cell_type": "code",
   "execution_count": 42,
   "outputs": [
    {
     "data": {
      "text/plain": "  TransactionID CustomerID CustomerDOB CustGender CustLocation  \\\n0            T1   C5841053  1994-10-01          F   JAMSHEDPUR   \n1            T2   C2142763  1957-04-04          M      JHAJJAR   \n2            T3   C4417068  1996-11-26          F       MUMBAI   \n3            T4   C5342380  1973-09-14          F       MUMBAI   \n4            T5   C9031234  1988-03-24          F  NAVI MUMBAI   \n\n   CustAccountBalance TransactionDate  TransactionTime  \\\n0            17819.05          2/8/16           143207   \n1             2270.69          2/8/16           141858   \n2            17874.44          2/8/16           142712   \n3           866503.21          2/8/16           142714   \n4             6714.43          2/8/16           181156   \n\n   TransactionAmount (INR)  \n0                     25.0  \n1                  27999.0  \n2                    459.0  \n3                   2060.0  \n4                   1762.5  ",
      "text/html": "<div>\n<style scoped>\n    .dataframe tbody tr th:only-of-type {\n        vertical-align: middle;\n    }\n\n    .dataframe tbody tr th {\n        vertical-align: top;\n    }\n\n    .dataframe thead th {\n        text-align: right;\n    }\n</style>\n<table border=\"1\" class=\"dataframe\">\n  <thead>\n    <tr style=\"text-align: right;\">\n      <th></th>\n      <th>TransactionID</th>\n      <th>CustomerID</th>\n      <th>CustomerDOB</th>\n      <th>CustGender</th>\n      <th>CustLocation</th>\n      <th>CustAccountBalance</th>\n      <th>TransactionDate</th>\n      <th>TransactionTime</th>\n      <th>TransactionAmount (INR)</th>\n    </tr>\n  </thead>\n  <tbody>\n    <tr>\n      <th>0</th>\n      <td>T1</td>\n      <td>C5841053</td>\n      <td>1994-10-01</td>\n      <td>F</td>\n      <td>JAMSHEDPUR</td>\n      <td>17819.05</td>\n      <td>2/8/16</td>\n      <td>143207</td>\n      <td>25.0</td>\n    </tr>\n    <tr>\n      <th>1</th>\n      <td>T2</td>\n      <td>C2142763</td>\n      <td>1957-04-04</td>\n      <td>M</td>\n      <td>JHAJJAR</td>\n      <td>2270.69</td>\n      <td>2/8/16</td>\n      <td>141858</td>\n      <td>27999.0</td>\n    </tr>\n    <tr>\n      <th>2</th>\n      <td>T3</td>\n      <td>C4417068</td>\n      <td>1996-11-26</td>\n      <td>F</td>\n      <td>MUMBAI</td>\n      <td>17874.44</td>\n      <td>2/8/16</td>\n      <td>142712</td>\n      <td>459.0</td>\n    </tr>\n    <tr>\n      <th>3</th>\n      <td>T4</td>\n      <td>C5342380</td>\n      <td>1973-09-14</td>\n      <td>F</td>\n      <td>MUMBAI</td>\n      <td>866503.21</td>\n      <td>2/8/16</td>\n      <td>142714</td>\n      <td>2060.0</td>\n    </tr>\n    <tr>\n      <th>4</th>\n      <td>T5</td>\n      <td>C9031234</td>\n      <td>1988-03-24</td>\n      <td>F</td>\n      <td>NAVI MUMBAI</td>\n      <td>6714.43</td>\n      <td>2/8/16</td>\n      <td>181156</td>\n      <td>1762.5</td>\n    </tr>\n  </tbody>\n</table>\n</div>"
     },
     "execution_count": 42,
     "metadata": {},
     "output_type": "execute_result"
    }
   ],
   "source": [
    "df.loc[df.CustomerDOB.dt.year >= 2022, 'CustomerDOB'] = df.loc[df.CustomerDOB.dt.year >= 2022, 'CustomerDOB'] - pd.DateOffset(years = 100)\n",
    "df.head()"
   ],
   "metadata": {
    "collapsed": false
   }
  },
  {
   "cell_type": "code",
   "execution_count": 46,
   "outputs": [],
   "source": [
    "def get_age(birthdate):\n",
    "    return date.today().year - birthdate.year"
   ],
   "metadata": {
    "collapsed": false
   }
  },
  {
   "cell_type": "code",
   "execution_count": 48,
   "outputs": [],
   "source": [
    "df['age'] = [get_age(x) for x in df['CustomerDOB']]"
   ],
   "metadata": {
    "collapsed": false
   }
  },
  {
   "cell_type": "code",
   "execution_count": 49,
   "outputs": [
    {
     "data": {
      "text/plain": "        TransactionID CustomerID CustomerDOB CustGender   CustLocation  \\\n0                  T1   C5841053  1994-10-01          F     JAMSHEDPUR   \n1                  T2   C2142763  1957-04-04          M        JHAJJAR   \n2                  T3   C4417068  1996-11-26          F         MUMBAI   \n3                  T4   C5342380  1973-09-14          F         MUMBAI   \n4                  T5   C9031234  1988-03-24          F    NAVI MUMBAI   \n...               ...        ...         ...        ...            ...   \n1048562      T1048563   C8020229  1990-08-04          M      NEW DELHI   \n1048563      T1048564   C6459278  1992-02-20          M         NASHIK   \n1048564      T1048565   C6412354  1989-05-18          M      HYDERABAD   \n1048565      T1048566   C6420483  1978-08-30          M  VISAKHAPATNAM   \n1048566      T1048567   C8337524  1984-05-03          M           PUNE   \n\n         CustAccountBalance TransactionDate  TransactionTime  \\\n0                  17819.05          2/8/16           143207   \n1                   2270.69          2/8/16           141858   \n2                  17874.44          2/8/16           142712   \n3                 866503.21          2/8/16           142714   \n4                   6714.43          2/8/16           181156   \n...                     ...             ...              ...   \n1048562             7635.19         18/9/16           184824   \n1048563            27311.42         18/9/16           183734   \n1048564           221757.06         18/9/16           183313   \n1048565            10117.87         18/9/16           184706   \n1048566            75734.42         18/9/16           181222   \n\n         TransactionAmount (INR)   age  \n0                           25.0  28.0  \n1                        27999.0  65.0  \n2                          459.0  26.0  \n3                         2060.0  49.0  \n4                         1762.5  34.0  \n...                          ...   ...  \n1048562                    799.0  32.0  \n1048563                    460.0  30.0  \n1048564                    770.0  33.0  \n1048565                   1000.0  44.0  \n1048566                   1166.0  38.0  \n\n[991228 rows x 10 columns]",
      "text/html": "<div>\n<style scoped>\n    .dataframe tbody tr th:only-of-type {\n        vertical-align: middle;\n    }\n\n    .dataframe tbody tr th {\n        vertical-align: top;\n    }\n\n    .dataframe thead th {\n        text-align: right;\n    }\n</style>\n<table border=\"1\" class=\"dataframe\">\n  <thead>\n    <tr style=\"text-align: right;\">\n      <th></th>\n      <th>TransactionID</th>\n      <th>CustomerID</th>\n      <th>CustomerDOB</th>\n      <th>CustGender</th>\n      <th>CustLocation</th>\n      <th>CustAccountBalance</th>\n      <th>TransactionDate</th>\n      <th>TransactionTime</th>\n      <th>TransactionAmount (INR)</th>\n      <th>age</th>\n    </tr>\n  </thead>\n  <tbody>\n    <tr>\n      <th>0</th>\n      <td>T1</td>\n      <td>C5841053</td>\n      <td>1994-10-01</td>\n      <td>F</td>\n      <td>JAMSHEDPUR</td>\n      <td>17819.05</td>\n      <td>2/8/16</td>\n      <td>143207</td>\n      <td>25.0</td>\n      <td>28.0</td>\n    </tr>\n    <tr>\n      <th>1</th>\n      <td>T2</td>\n      <td>C2142763</td>\n      <td>1957-04-04</td>\n      <td>M</td>\n      <td>JHAJJAR</td>\n      <td>2270.69</td>\n      <td>2/8/16</td>\n      <td>141858</td>\n      <td>27999.0</td>\n      <td>65.0</td>\n    </tr>\n    <tr>\n      <th>2</th>\n      <td>T3</td>\n      <td>C4417068</td>\n      <td>1996-11-26</td>\n      <td>F</td>\n      <td>MUMBAI</td>\n      <td>17874.44</td>\n      <td>2/8/16</td>\n      <td>142712</td>\n      <td>459.0</td>\n      <td>26.0</td>\n    </tr>\n    <tr>\n      <th>3</th>\n      <td>T4</td>\n      <td>C5342380</td>\n      <td>1973-09-14</td>\n      <td>F</td>\n      <td>MUMBAI</td>\n      <td>866503.21</td>\n      <td>2/8/16</td>\n      <td>142714</td>\n      <td>2060.0</td>\n      <td>49.0</td>\n    </tr>\n    <tr>\n      <th>4</th>\n      <td>T5</td>\n      <td>C9031234</td>\n      <td>1988-03-24</td>\n      <td>F</td>\n      <td>NAVI MUMBAI</td>\n      <td>6714.43</td>\n      <td>2/8/16</td>\n      <td>181156</td>\n      <td>1762.5</td>\n      <td>34.0</td>\n    </tr>\n    <tr>\n      <th>...</th>\n      <td>...</td>\n      <td>...</td>\n      <td>...</td>\n      <td>...</td>\n      <td>...</td>\n      <td>...</td>\n      <td>...</td>\n      <td>...</td>\n      <td>...</td>\n      <td>...</td>\n    </tr>\n    <tr>\n      <th>1048562</th>\n      <td>T1048563</td>\n      <td>C8020229</td>\n      <td>1990-08-04</td>\n      <td>M</td>\n      <td>NEW DELHI</td>\n      <td>7635.19</td>\n      <td>18/9/16</td>\n      <td>184824</td>\n      <td>799.0</td>\n      <td>32.0</td>\n    </tr>\n    <tr>\n      <th>1048563</th>\n      <td>T1048564</td>\n      <td>C6459278</td>\n      <td>1992-02-20</td>\n      <td>M</td>\n      <td>NASHIK</td>\n      <td>27311.42</td>\n      <td>18/9/16</td>\n      <td>183734</td>\n      <td>460.0</td>\n      <td>30.0</td>\n    </tr>\n    <tr>\n      <th>1048564</th>\n      <td>T1048565</td>\n      <td>C6412354</td>\n      <td>1989-05-18</td>\n      <td>M</td>\n      <td>HYDERABAD</td>\n      <td>221757.06</td>\n      <td>18/9/16</td>\n      <td>183313</td>\n      <td>770.0</td>\n      <td>33.0</td>\n    </tr>\n    <tr>\n      <th>1048565</th>\n      <td>T1048566</td>\n      <td>C6420483</td>\n      <td>1978-08-30</td>\n      <td>M</td>\n      <td>VISAKHAPATNAM</td>\n      <td>10117.87</td>\n      <td>18/9/16</td>\n      <td>184706</td>\n      <td>1000.0</td>\n      <td>44.0</td>\n    </tr>\n    <tr>\n      <th>1048566</th>\n      <td>T1048567</td>\n      <td>C8337524</td>\n      <td>1984-05-03</td>\n      <td>M</td>\n      <td>PUNE</td>\n      <td>75734.42</td>\n      <td>18/9/16</td>\n      <td>181222</td>\n      <td>1166.0</td>\n      <td>38.0</td>\n    </tr>\n  </tbody>\n</table>\n<p>991228 rows × 10 columns</p>\n</div>"
     },
     "execution_count": 49,
     "metadata": {},
     "output_type": "execute_result"
    }
   ],
   "source": [
    "df"
   ],
   "metadata": {
    "collapsed": false
   }
  },
  {
   "cell_type": "code",
   "execution_count": 50,
   "outputs": [
    {
     "data": {
      "text/plain": "count    987831.000000\nmean         37.031188\nstd           8.763554\nmin           1.000000\n25%          31.000000\n50%          35.000000\n75%          40.000000\nmax         100.000000\nName: age, dtype: float64"
     },
     "execution_count": 50,
     "metadata": {},
     "output_type": "execute_result"
    }
   ],
   "source": [
    "df['age'].describe().T"
   ],
   "metadata": {
    "collapsed": false
   }
  },
  {
   "cell_type": "code",
   "execution_count": 52,
   "outputs": [
    {
     "name": "stderr",
     "output_type": "stream",
     "text": [
      "/tmp/ipykernel_785078/3234920688.py:1: UserWarning: \n",
      "\n",
      "`distplot` is a deprecated function and will be removed in seaborn v0.14.0.\n",
      "\n",
      "Please adapt your code to use either `displot` (a figure-level function with\n",
      "similar flexibility) or `histplot` (an axes-level function for histograms).\n",
      "\n",
      "For a guide to updating your code to use the new functions, please see\n",
      "https://gist.github.com/mwaskom/de44147ed2974457ad6372750bbe5751\n",
      "\n",
      "  sns.distplot(df['age'])\n"
     ]
    },
    {
     "data": {
      "text/plain": "<AxesSubplot: xlabel='age', ylabel='Density'>"
     },
     "execution_count": 52,
     "metadata": {},
     "output_type": "execute_result"
    },
    {
     "data": {
      "text/plain": "<Figure size 640x480 with 1 Axes>",
      "image/png": "[encoded data removed]"
     },
     "metadata": {},
     "output_type": "display_data"
    }
   ],
   "source": [
    "sns.distplot(df['age'])"
   ],
   "metadata": {
    "collapsed": false
   }
  }
 ]
}
